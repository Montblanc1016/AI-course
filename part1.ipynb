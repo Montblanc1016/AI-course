{
 "cells": [
  {
   "cell_type": "markdown",
   "metadata": {},
   "source": [
    "### Imports"
   ]
  },
  {
   "cell_type": "code",
   "execution_count": 1,
   "metadata": {},
   "outputs": [],
   "source": [
    "import pickle as pkl\n",
    "import json\n",
    "from torch.utils.data import TensorDataset, DataLoader\n",
    "import torch\n",
    "import torch.utils.data\n",
    "from torch import nn\n",
    "from torch.autograd import Variable\n",
    "from tqdm import tqdm\n",
    "import re\n",
    "import numpy as np"
   ]
  },
  {
   "cell_type": "markdown",
   "metadata": {},
   "source": [
    "### Glove dictionary"
   ]
  },
  {
   "cell_type": "code",
   "execution_count": 2,
   "metadata": {},
   "outputs": [],
   "source": [
    "def get_glove_dictionary(path):\n",
    "    with open(path,encoding=\"utf-8\") as f:\n",
    "        glove = f.readlines()\n",
    "    glove_dictionary = {}\n",
    "    for idx in tqdm(range(len(glove))):\n",
    "        glove_vec = []\n",
    "        for num in glove[idx].split()[1:len(glove[idx])]:\n",
    "            glove_vec.append(float(num))\n",
    "        glove_dictionary[glove[idx].split()[0]] = np.array([glove_vec])\n",
    "    return glove_dictionary"
   ]
  },
  {
   "cell_type": "code",
   "execution_count": 3,
   "metadata": {},
   "outputs": [
    {
     "name": "stderr",
     "output_type": "stream",
     "text": [
      "100%|██████████| 400000/400000 [00:07<00:00, 51397.77it/s]\n"
     ]
    }
   ],
   "source": [
    "glove_dictionary = get_glove_dictionary(\"../2_data/wv_50d.txt\")"
   ]
  },
  {
   "cell_type": "markdown",
   "metadata": {},
   "source": [
    "### Loading review data"
   ]
  },
  {
   "cell_type": "code",
   "execution_count": 4,
   "metadata": {},
   "outputs": [],
   "source": [
    "def load_review(path):\n",
    "    with open(path,encoding=\"utf-8\") as f:\n",
    "        content_whole = f.readlines()\n",
    "    content_list = []\n",
    "    for idx in range(len(content_whole)):\n",
    "        content_each = []\n",
    "        contents_each = []\n",
    "        for word in re.sub(\"[-,)(^.!:?;*$%&/]\",\" \", content_whole[idx]).split():\n",
    "            content_each.append(word.lower())\n",
    "        contents_each.append(content_each[-1])\n",
    "        content_each.remove(content_each[-1])\n",
    "        contents_each.append(content_each)\n",
    "        content_list.append(contents_each)\n",
    "    return content_list"
   ]
  },
  {
   "cell_type": "code",
   "execution_count": 5,
   "metadata": {},
   "outputs": [],
   "source": [
    "content_list = load_review(\"../2_data/senti_binary_train.txt\")"
   ]
  },
  {
   "cell_type": "code",
   "execution_count": 41,
   "metadata": {},
   "outputs": [
    {
     "data": {
      "text/plain": [
       "['0', ['hide', 'new', 'secretions', 'from', 'the', 'parental', 'units']]"
      ]
     },
     "execution_count": 41,
     "metadata": {},
     "output_type": "execute_result"
    }
   ],
   "source": [
    "content_list[0][]"
   ]
  },
  {
   "cell_type": "markdown",
   "metadata": {},
   "source": [
    "### Vectorizing the review data"
   ]
  },
  {
   "cell_type": "code",
   "execution_count": 6,
   "metadata": {},
   "outputs": [],
   "source": [
    "def vectorize_review(content_list,dictionary):\n",
    "    set_data = []\n",
    "    for idx in tqdm(range(len(content_list))):\n",
    "        if content_list[idx][1][0] not in dictionary.keys():\n",
    "            continue\n",
    "        glove_value = dictionary[content_list[idx][1][0]]\n",
    "        for idx_1 in range(1,len(content_list[idx][1])):\n",
    "            if content_list[idx][1][idx_1] not in dictionary.keys():\n",
    "                continue\n",
    "            glove_value = np.append(glove_value,dictionary[content_list[idx][1][idx_1]],axis=0)\n",
    "        sets = []\n",
    "        x = glove_value.mean(axis=0)\n",
    "        x = torch.tensor(x,dtype=torch.float32)\n",
    "        x = x.type(torch.DoubleTensor)\n",
    "        sets.append(x)\n",
    "        y = np.array(content_list[idx][0],dtype='int64')\n",
    "        y = torch.tensor(y,dtype=torch.int64)\n",
    "        sets.append(y)\n",
    "        set_data.append(tuple(sets))\n",
    "    return set_data"
   ]
  },
  {
   "cell_type": "code",
   "execution_count": 7,
   "metadata": {},
   "outputs": [
    {
     "name": "stderr",
     "output_type": "stream",
     "text": [
      "100%|██████████| 67349/67349 [00:03<00:00, 17371.61it/s]\n"
     ]
    }
   ],
   "source": [
    "set_data = vectorize_review(content_list,glove_dictionary)"
   ]
  },
  {
   "cell_type": "markdown",
   "metadata": {},
   "source": [
    "### Model"
   ]
  },
  {
   "cell_type": "code",
   "execution_count": 8,
   "metadata": {},
   "outputs": [],
   "source": [
    "class Model(nn.Module):\n",
    "    \n",
    "    def __init__(self, input_dim, hidden1_dim, hidden2_dim, output_dim):\n",
    "        \n",
    "        super(Model, self).__init__()\n",
    "        \n",
    "        self.hl1 = nn.Linear(input_dim, hidden1_dim)\n",
    "        self.hl1a = nn.ReLU()\n",
    "        self.layer1 = [self.hl1, self.hl1a]\n",
    "        \n",
    "        self.hl2 = nn.Linear(hidden1_dim, hidden2_dim)\n",
    "        self.hl2a = nn.ReLU()\n",
    "        self.layer2 = [self.hl2, self.hl2a]\n",
    "        \n",
    "        self.ol = nn.Linear(hidden2_dim, output_dim)\n",
    "        self.ola = (lambda x: x)\n",
    "        self.layer3 = [self.ol, self.ola]\n",
    "        \n",
    "        self.layers = [self.layer1, self.layer2, self.layer3]\n",
    "        \n",
    "    def forward(self, x):\n",
    "        \n",
    "        out = x\n",
    "        \n",
    "        for pa, a in self.layers:\n",
    "            \n",
    "            out = a(pa(out))\n",
    "        \n",
    "        return out"
   ]
  },
  {
   "cell_type": "code",
   "execution_count": 9,
   "metadata": {},
   "outputs": [
    {
     "data": {
      "text/plain": [
       "Model(\n",
       "  (hl1): Linear(in_features=50, out_features=20, bias=True)\n",
       "  (hl1a): ReLU()\n",
       "  (hl2): Linear(in_features=20, out_features=20, bias=True)\n",
       "  (hl2a): ReLU()\n",
       "  (ol): Linear(in_features=20, out_features=2, bias=True)\n",
       ")"
      ]
     },
     "execution_count": 9,
     "metadata": {},
     "output_type": "execute_result"
    }
   ],
   "source": [
    "model = Model(50, 20, 20, 2)\n",
    "model.double()"
   ]
  },
  {
   "cell_type": "markdown",
   "metadata": {},
   "source": [
    "### Trainer"
   ]
  },
  {
   "cell_type": "code",
   "execution_count": 10,
   "metadata": {},
   "outputs": [],
   "source": [
    "class Trainer():\n",
    "    \n",
    "    def __init__(self, model, data):\n",
    "        \n",
    "        self.model = model\n",
    "        self.data = data\n",
    "        \n",
    "        self.train_loader = torch.utils.data.DataLoader(dataset=self.data, batch_size=8, shuffle=True)\n",
    "        \n",
    "    def train(self, lr, ne):\n",
    "        \n",
    "        criterion = nn.CrossEntropyLoss()\n",
    "        optimizer = torch.optim.Adam(self.model.parameters(), lr=lr)\n",
    "\n",
    "        self.model.train()\n",
    "        \n",
    "        self.costs = []\n",
    "        \n",
    "        for e in range(ne):\n",
    "            \n",
    "            print('training epoch %d / %d ...' %(e+1, ne))\n",
    "            \n",
    "            train_cost = 0\n",
    "        \n",
    "            for batch_idx, (inputs, targets) in enumerate(self.train_loader):\n",
    "\n",
    "                inputs = Variable(inputs)\n",
    "                targets = Variable(targets)\n",
    "                \n",
    "                optimizer.zero_grad()\n",
    "                outputs = self.model(inputs)\n",
    "                loss = criterion(outputs, targets)\n",
    "                train_cost += loss\n",
    "                loss.backward()\n",
    "                optimizer.step()\n",
    "                \n",
    "            self.costs.append(train_cost/len(self.data))\n",
    "            print('cost: %f' %(self.costs[-1]))"
   ]
  },
  {
   "cell_type": "code",
   "execution_count": 11,
   "metadata": {},
   "outputs": [],
   "source": [
    "trainer = Trainer(model, set_data)"
   ]
  },
  {
   "cell_type": "code",
   "execution_count": 12,
   "metadata": {
    "scrolled": true
   },
   "outputs": [
    {
     "name": "stdout",
     "output_type": "stream",
     "text": [
      "training epoch 1 / 100 ...\n",
      "cost: 0.061580\n",
      "training epoch 2 / 100 ...\n",
      "cost: 0.058905\n",
      "training epoch 3 / 100 ...\n",
      "cost: 0.057841\n",
      "training epoch 4 / 100 ...\n",
      "cost: 0.057267\n",
      "training epoch 5 / 100 ...\n",
      "cost: 0.056932\n",
      "training epoch 6 / 100 ...\n",
      "cost: 0.056475\n",
      "training epoch 7 / 100 ...\n",
      "cost: 0.056203\n",
      "training epoch 8 / 100 ...\n",
      "cost: 0.055992\n",
      "training epoch 9 / 100 ...\n",
      "cost: 0.055746\n",
      "training epoch 10 / 100 ...\n",
      "cost: 0.055554\n",
      "training epoch 11 / 100 ...\n",
      "cost: 0.055269\n",
      "training epoch 12 / 100 ...\n",
      "cost: 0.055348\n",
      "training epoch 13 / 100 ...\n",
      "cost: 0.055171\n",
      "training epoch 14 / 100 ...\n",
      "cost: 0.054991\n",
      "training epoch 15 / 100 ...\n",
      "cost: 0.054914\n",
      "training epoch 16 / 100 ...\n",
      "cost: 0.054835\n",
      "training epoch 17 / 100 ...\n",
      "cost: 0.054763\n",
      "training epoch 18 / 100 ...\n",
      "cost: 0.054679\n",
      "training epoch 19 / 100 ...\n",
      "cost: 0.054632\n",
      "training epoch 20 / 100 ...\n",
      "cost: 0.054533\n",
      "training epoch 21 / 100 ...\n",
      "cost: 0.054416\n",
      "training epoch 22 / 100 ...\n",
      "cost: 0.054422\n",
      "training epoch 23 / 100 ...\n",
      "cost: 0.054475\n",
      "training epoch 24 / 100 ...\n",
      "cost: 0.054456\n",
      "training epoch 25 / 100 ...\n",
      "cost: 0.054263\n",
      "training epoch 26 / 100 ...\n",
      "cost: 0.054193\n",
      "training epoch 27 / 100 ...\n",
      "cost: 0.054147\n",
      "training epoch 28 / 100 ...\n",
      "cost: 0.054131\n",
      "training epoch 29 / 100 ...\n",
      "cost: 0.054104\n",
      "training epoch 30 / 100 ...\n",
      "cost: 0.054048\n",
      "training epoch 31 / 100 ...\n",
      "cost: 0.053995\n",
      "training epoch 32 / 100 ...\n",
      "cost: 0.054067\n",
      "training epoch 33 / 100 ...\n",
      "cost: 0.053914\n",
      "training epoch 34 / 100 ...\n",
      "cost: 0.053941\n",
      "training epoch 35 / 100 ...\n",
      "cost: 0.054002\n",
      "training epoch 36 / 100 ...\n",
      "cost: 0.053867\n",
      "training epoch 37 / 100 ...\n",
      "cost: 0.053817\n",
      "training epoch 38 / 100 ...\n",
      "cost: 0.053845\n",
      "training epoch 39 / 100 ...\n",
      "cost: 0.053819\n",
      "training epoch 40 / 100 ...\n",
      "cost: 0.053762\n",
      "training epoch 41 / 100 ...\n",
      "cost: 0.053744\n",
      "training epoch 42 / 100 ...\n",
      "cost: 0.053651\n",
      "training epoch 43 / 100 ...\n",
      "cost: 0.053677\n",
      "training epoch 44 / 100 ...\n",
      "cost: 0.053671\n",
      "training epoch 45 / 100 ...\n",
      "cost: 0.053646\n",
      "training epoch 46 / 100 ...\n",
      "cost: 0.053683\n",
      "training epoch 47 / 100 ...\n",
      "cost: 0.053591\n",
      "training epoch 48 / 100 ...\n",
      "cost: 0.053653\n",
      "training epoch 49 / 100 ...\n",
      "cost: 0.053609\n",
      "training epoch 50 / 100 ...\n",
      "cost: 0.053637\n",
      "training epoch 51 / 100 ...\n",
      "cost: 0.053656\n",
      "training epoch 52 / 100 ...\n",
      "cost: 0.053615\n",
      "training epoch 53 / 100 ...\n",
      "cost: 0.053638\n",
      "training epoch 54 / 100 ...\n",
      "cost: 0.053627\n",
      "training epoch 55 / 100 ...\n",
      "cost: 0.053539\n",
      "training epoch 56 / 100 ...\n",
      "cost: 0.053599\n",
      "training epoch 57 / 100 ...\n",
      "cost: 0.053594\n",
      "training epoch 58 / 100 ...\n",
      "cost: 0.053561\n",
      "training epoch 59 / 100 ...\n",
      "cost: 0.053461\n",
      "training epoch 60 / 100 ...\n",
      "cost: 0.053548\n",
      "training epoch 61 / 100 ...\n",
      "cost: 0.053476\n",
      "training epoch 62 / 100 ...\n",
      "cost: 0.053566\n",
      "training epoch 63 / 100 ...\n",
      "cost: 0.053422\n",
      "training epoch 64 / 100 ...\n",
      "cost: 0.053414\n",
      "training epoch 65 / 100 ...\n",
      "cost: 0.053582\n",
      "training epoch 66 / 100 ...\n",
      "cost: 0.053505\n",
      "training epoch 67 / 100 ...\n",
      "cost: 0.053527\n",
      "training epoch 68 / 100 ...\n",
      "cost: 0.053408\n",
      "training epoch 69 / 100 ...\n",
      "cost: 0.053446\n",
      "training epoch 70 / 100 ...\n",
      "cost: 0.053346\n",
      "training epoch 71 / 100 ...\n",
      "cost: 0.053433\n",
      "training epoch 72 / 100 ...\n",
      "cost: 0.053386\n",
      "training epoch 73 / 100 ...\n",
      "cost: 0.053413\n",
      "training epoch 74 / 100 ...\n",
      "cost: 0.053330\n",
      "training epoch 75 / 100 ...\n",
      "cost: 0.053280\n",
      "training epoch 76 / 100 ...\n",
      "cost: 0.053261\n",
      "training epoch 77 / 100 ...\n",
      "cost: 0.053353\n",
      "training epoch 78 / 100 ...\n",
      "cost: 0.053311\n",
      "training epoch 79 / 100 ...\n",
      "cost: 0.053338\n",
      "training epoch 80 / 100 ...\n",
      "cost: 0.053308\n",
      "training epoch 81 / 100 ...\n",
      "cost: 0.053295\n",
      "training epoch 82 / 100 ...\n",
      "cost: 0.053265\n",
      "training epoch 83 / 100 ...\n",
      "cost: 0.053250\n",
      "training epoch 84 / 100 ...\n",
      "cost: 0.053267\n",
      "training epoch 85 / 100 ...\n",
      "cost: 0.053186\n",
      "training epoch 86 / 100 ...\n",
      "cost: 0.053251\n",
      "training epoch 87 / 100 ...\n",
      "cost: 0.053299\n",
      "training epoch 88 / 100 ...\n",
      "cost: 0.053263\n",
      "training epoch 89 / 100 ...\n",
      "cost: 0.053310\n",
      "training epoch 90 / 100 ...\n",
      "cost: 0.053167\n",
      "training epoch 91 / 100 ...\n",
      "cost: 0.053125\n",
      "training epoch 92 / 100 ...\n",
      "cost: 0.053257\n",
      "training epoch 93 / 100 ...\n",
      "cost: 0.053159\n",
      "training epoch 94 / 100 ...\n",
      "cost: 0.053207\n",
      "training epoch 95 / 100 ...\n",
      "cost: 0.053192\n",
      "training epoch 96 / 100 ...\n",
      "cost: 0.053092\n",
      "training epoch 97 / 100 ...\n",
      "cost: 0.053202\n",
      "training epoch 98 / 100 ...\n",
      "cost: 0.053243\n",
      "training epoch 99 / 100 ...\n",
      "cost: 0.053228\n",
      "training epoch 100 / 100 ...\n",
      "cost: 0.053178\n"
     ]
    }
   ],
   "source": [
    "trainer.train(0.005, 100)"
   ]
  },
  {
   "cell_type": "markdown",
   "metadata": {},
   "source": [
    "### testing (for the other data)"
   ]
  },
  {
   "cell_type": "code",
   "execution_count": 29,
   "metadata": {},
   "outputs": [],
   "source": [
    "def test_data(path):\n",
    "    content_list2 = load_review(path)\n",
    "    set_data2 = vectorize_review(content_list2,glove_dictionary) \n",
    "    x_test = []\n",
    "    y_test = []\n",
    "    for idx in range(len(set_data2)):\n",
    "        x_test.append(set_data2[idx][0])\n",
    "        y_test.append(set_data2[idx][1])\n",
    "    pred = []\n",
    "    for idx in range(len(x_test)):\n",
    "        _, y_pred = torch.max(model(x_test[idx]),0)\n",
    "        pred.append(y_pred)\n",
    "    accuracy = 1-(abs(np.array(pred)-np.array(y_test)).sum()/len(y_test))\n",
    "    return accuracy"
   ]
  },
  {
   "cell_type": "code",
   "execution_count": 40,
   "metadata": {},
   "outputs": [
    {
     "name": "stderr",
     "output_type": "stream",
     "text": [
      "100%|██████████| 1821/1821 [00:00<00:00, 11140.32it/s]\n"
     ]
    },
    {
     "data": {
      "text/plain": [
       "0.717439293598234"
      ]
     },
     "execution_count": 40,
     "metadata": {},
     "output_type": "execute_result"
    }
   ],
   "source": [
    "test_data(\"../2_data/senti_binary_test.txt\")"
   ]
  },
  {
   "cell_type": "markdown",
   "metadata": {},
   "source": [
    "### testing (for interactive purposes)"
   ]
  },
  {
   "cell_type": "code",
   "execution_count": null,
   "metadata": {},
   "outputs": [],
   "source": [
    "\"I hate this movie\""
   ]
  },
  {
   "cell_type": "code",
   "execution_count": 71,
   "metadata": {},
   "outputs": [],
   "source": [
    "def vectorize_a_sentence(sentence,dictionary):\n",
    "    sentence=sentence.lower().split()\n",
    "    glove_value = dictionary[sentence[0]]\n",
    "    for idx in range(1,len(sentence)):\n",
    "        glove_value = np.append(glove_value,dictionary[sentence[idx]],axis=0)\n",
    "    x = glove_value.mean(axis=0)\n",
    "    x = torch.tensor(x,dtype=torch.float32)\n",
    "    x = x.type(torch.DoubleTensor)\n",
    "    return x"
   ]
  },
  {
   "cell_type": "code",
   "execution_count": 89,
   "metadata": {},
   "outputs": [
    {
     "data": {
      "text/plain": [
       "tensor([ 0.2914,  0.1153, -0.1855, -0.3239,  0.6791,  0.0631, -0.5332,  0.0085,\n",
       "        -0.4375,  0.0213, -0.0482,  0.4214, -0.6428, -0.1142,  0.7044,  0.2567,\n",
       "         0.1647,  0.0497, -0.3210, -0.3732, -0.2914,  0.3986,  0.3583,  0.0261,\n",
       "         0.6578, -1.9735, -0.8563,  0.2407,  0.4923, -0.4313,  3.4127, -0.0459,\n",
       "        -0.2465, -0.3642,  0.0103, -0.1358,  0.2113,  0.3361,  0.0683, -0.2789,\n",
       "        -0.1749,  0.0461, -0.1287,  0.2632, -0.1160,  0.0905, -0.1788, -0.2021,\n",
       "         0.0378,  0.2649], dtype=torch.float64)"
      ]
     },
     "execution_count": 89,
     "metadata": {},
     "output_type": "execute_result"
    }
   ],
   "source": [
    "vectorized=vectorize_a_sentence('I thought the story was not so good',glove_dictionary)\n",
    "vectorized"
   ]
  },
  {
   "cell_type": "code",
   "execution_count": 90,
   "metadata": {},
   "outputs": [
    {
     "data": {
      "text/plain": [
       "tensor(0)"
      ]
     },
     "execution_count": 90,
     "metadata": {},
     "output_type": "execute_result"
    }
   ],
   "source": [
    "_, y_pred = torch.max(model(vectorized),0)\n",
    "y_pred"
   ]
  },
  {
   "cell_type": "code",
   "execution_count": null,
   "metadata": {},
   "outputs": [],
   "source": []
  }
 ],
 "metadata": {
  "kernelspec": {
   "display_name": "Python 3",
   "language": "python",
   "name": "python3"
  },
  "language_info": {
   "codemirror_mode": {
    "name": "ipython",
    "version": 3
   },
   "file_extension": ".py",
   "mimetype": "text/x-python",
   "name": "python",
   "nbconvert_exporter": "python",
   "pygments_lexer": "ipython3",
   "version": "3.6.5"
  }
 },
 "nbformat": 4,
 "nbformat_minor": 2
}
